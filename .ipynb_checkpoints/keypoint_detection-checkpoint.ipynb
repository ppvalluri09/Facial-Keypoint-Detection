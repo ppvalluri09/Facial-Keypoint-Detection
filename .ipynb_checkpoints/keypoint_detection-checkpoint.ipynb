{
 "cells": [
  {
   "cell_type": "code",
   "execution_count": 1,
   "metadata": {},
   "outputs": [],
   "source": [
    "import numpy as np\n",
    "from matplotlib import pyplot as plt\n",
    "from data_prep import *"
   ]
  },
  {
   "cell_type": "code",
   "execution_count": 2,
   "metadata": {},
   "outputs": [],
   "source": [
    "def plot_keypoints(data):\n",
    "    idx = np.random.randint(0, len(data.samples), 1)[-1]\n",
    "    plt.imshow(data[idx][0][0], cmap='gray')\n",
    "    coords = data[idx][1].reshape(len(data[idx][1])//2, 2)\n",
    "    plt.scatter(coords[:, 0], coords[:, 1], color='red', s=5)\n",
    "    plt.show()"
   ]
  },
  {
   "cell_type": "code",
   "execution_count": 3,
   "metadata": {},
   "outputs": [],
   "source": [
    "train = KeyPointGen(train=True)\n",
    "test = KeyPointGen(train=False)"
   ]
  },
  {
   "cell_type": "code",
   "execution_count": 4,
   "metadata": {},
   "outputs": [
    {
     "data": {
      "image/png": "[encoded data removed]",
      "text/plain": [
       "<Figure size 432x288 with 1 Axes>"
      ]
     },
     "metadata": {
      "needs_background": "light"
     },
     "output_type": "display_data"
    }
   ],
   "source": [
    "plot_keypoints(train)"
   ]
  },
  {
   "cell_type": "code",
   "execution_count": 5,
   "metadata": {},
   "outputs": [],
   "source": [
    "import torch\n",
    "import torch.nn as nn\n",
    "import torch.nn.functional as F\n",
    "import torch.optim as optim"
   ]
  },
  {
   "cell_type": "code",
   "execution_count": 6,
   "metadata": {},
   "outputs": [],
   "source": [
    "train_loader = torch.utils.data.DataLoader(train, batch_size=64, shuffle=True)\n",
    "test_loader = torch.utils.data.DataLoader(test, batch_size=64, shuffle=True)"
   ]
  },
  {
   "cell_type": "code",
   "execution_count": 7,
   "metadata": {},
   "outputs": [
    {
     "data": {
      "text/plain": [
       "30"
      ]
     },
     "execution_count": 7,
     "metadata": {},
     "output_type": "execute_result"
    }
   ],
   "source": [
    "len(train[0][1])\n",
    "# we need to model our CNN based on these number of output features\n",
    "# our output shape should be 1 x 1 x N ( N is the number of out features )"
   ]
  },
  {
   "cell_type": "code",
   "execution_count": 8,
   "metadata": {},
   "outputs": [],
   "source": [
    "class KeyPoint(nn.Module):\n",
    "    def __init__(self, in_channels=1):\n",
    "        super(KeyPoint, self).__init__()\n",
    "        self.conv1 = nn.Conv2d(in_channels, 32, 5)\n",
    "        # 92x92x32\n",
    "        # 46x46x32\n",
    "        self.conv2 = nn.Conv2d(32, 64, 3)\n",
    "        # 44x44x64\n",
    "        # 22x22x64\n",
    "        self.conv3 = nn.Conv2d(64, 64, 3)\n",
    "        # 20x20x64\n",
    "        self.conv4 = nn.Conv2d(64, 128, 7)\n",
    "        # 14x14x128\n",
    "        self.conv5 = nn.Conv2d(128, 32, 5)\n",
    "        # 10x10x32\n",
    "        # 5x5x32\n",
    "        self.conv6 = nn.Conv2d(32, 30, 5)\n",
    "        # 1x1x30\n",
    "        self.maxpool = nn.MaxPool2d(2)\n",
    "        \n",
    "    def forward(self, x):\n",
    "        x = self.maxpool(F.relu(self.conv1(x)))\n",
    "        x = self.maxpool(F.relu(self.conv2(x)))\n",
    "        x = F.relu(self.conv3(x))\n",
    "        x = F.relu(self.conv4(x))\n",
    "        x = self.maxpool(F.relu(self.conv5(x)))\n",
    "        x = self.conv6(x)\n",
    "        \n",
    "        return x       "
   ]
  },
  {
   "cell_type": "code",
   "execution_count": 9,
   "metadata": {},
   "outputs": [
    {
     "data": {
      "text/plain": [
       "KeyPoint(\n",
       "  (conv1): Conv2d(1, 32, kernel_size=(5, 5), stride=(1, 1))\n",
       "  (conv2): Conv2d(32, 64, kernel_size=(3, 3), stride=(1, 1))\n",
       "  (conv3): Conv2d(64, 64, kernel_size=(3, 3), stride=(1, 1))\n",
       "  (conv4): Conv2d(64, 128, kernel_size=(7, 7), stride=(1, 1))\n",
       "  (conv5): Conv2d(128, 32, kernel_size=(5, 5), stride=(1, 1))\n",
       "  (conv6): Conv2d(32, 30, kernel_size=(5, 5), stride=(1, 1))\n",
       "  (maxpool): MaxPool2d(kernel_size=2, stride=2, padding=0, dilation=1, ceil_mode=False)\n",
       ")"
      ]
     },
     "execution_count": 9,
     "metadata": {},
     "output_type": "execute_result"
    }
   ],
   "source": [
    "keypoint = KeyPoint(in_channels=1)\n",
    "keypoint"
   ]
  },
  {
   "cell_type": "code",
   "execution_count": 10,
   "metadata": {},
   "outputs": [],
   "source": [
    "EPOCHS = 10\n",
    "criterion = nn.MSELoss()\n",
    "optimizer = optim.Adam(keypoint.parameters(), lr=0.003)"
   ]
  },
  {
   "cell_type": "code",
   "execution_count": 11,
   "metadata": {},
   "outputs": [
    {
     "data": {
      "text/plain": [
       "torch.Size([64, 1, 96, 96])"
      ]
     },
     "execution_count": 11,
     "metadata": {},
     "output_type": "execute_result"
    }
   ],
   "source": [
    "# testing the output of the Model\n",
    "inp = next(iter(train_loader))\n",
    "inp[0].shape"
   ]
  },
  {
   "cell_type": "code",
   "execution_count": 12,
   "metadata": {},
   "outputs": [
    {
     "data": {
      "text/plain": [
       "tensor(2613.0203, dtype=torch.float64, grad_fn=<MseLossBackward>)"
      ]
     },
     "execution_count": 12,
     "metadata": {},
     "output_type": "execute_result"
    }
   ],
   "source": [
    "# testing for correctness of dimensions\n",
    "out = keypoint(inp[0].float())\n",
    "y = inp[1]\n",
    "criterion(out.view(-1, out.size(1)), y)"
   ]
  },
  {
   "cell_type": "code",
   "execution_count": 11,
   "metadata": {},
   "outputs": [],
   "source": [
    "from tqdm import tqdm\n",
    "\n",
    "def train_model(model, optimizer, criterion, train_loader, EPOCHS):\n",
    "    model.train()\n",
    "    loss_history = []\n",
    "    for epoch in range(EPOCHS):\n",
    "        print(f'Epoch {epoch + 1}/{EPOCHS}')\n",
    "        running_loss = 0.0\n",
    "        for i,dat in enumerate(train_loader):\n",
    "            \n",
    "            model.zero_grad()\n",
    "            x, y = dat\n",
    "            out = model(x.float())\n",
    "            loss = criterion(out.view(-1, out.size(1)).float(), y.float())\n",
    "            running_loss += loss.item()\n",
    "            loss.backward()\n",
    "            optimizer.step()\n",
    "            \n",
    "            if i % 50 == 49:\n",
    "                print(f'Epoch {epoch + 1}, Batch {i + 1}, Running Loss {running_loss/i+1}')\n",
    "                loss_history.append(running_loss/(i+1))\n",
    "                running_loss = 0.0\n",
    "        print(f'Epoch Loss {loss.item()}')\n",
    "    print('Training Done')\n",
    "    return model, optimizer, criterion, loss_history"
   ]
  },
  {
   "cell_type": "code",
   "execution_count": 170,
   "metadata": {},
   "outputs": [
    {
     "name": "stdout",
     "output_type": "stream",
     "text": [
      "Epoch 1/10\n",
      "Epoch 1, Batch 50, Running Loss 34.50082933659456\n",
      "Epoch 1, Batch 100, Running Loss 4.945011832497336\n",
      "Epoch Loss 4.943003177642822\n",
      "Epoch 2/10\n",
      "Epoch 2, Batch 50, Running Loss 9.218493159936399\n",
      "Epoch 2, Batch 100, Running Loss 4.6573191026244505\n",
      "Epoch Loss 5.616365432739258\n",
      "Epoch 3/10\n",
      "Epoch 3, Batch 50, Running Loss 9.229681900569371\n",
      "Epoch 3, Batch 100, Running Loss 4.873063626915517\n",
      "Epoch Loss 11.462591171264648\n",
      "Epoch 4/10\n",
      "Epoch 4, Batch 50, Running Loss 9.322882360341598\n",
      "Epoch 4, Batch 100, Running Loss 4.90131918589274\n",
      "Epoch Loss 12.729804039001465\n",
      "Epoch 5/10\n",
      "Epoch 5, Batch 50, Running Loss 9.216290639371287\n",
      "Epoch 5, Batch 100, Running Loss 5.0235570079148415\n",
      "Epoch Loss 3.99306058883667\n",
      "Epoch 6/10\n",
      "Epoch 6, Batch 50, Running Loss 9.361150868084966\n",
      "Epoch 6, Batch 100, Running Loss 4.873956911491625\n",
      "Epoch Loss 4.3627028465271\n",
      "Epoch 7/10\n",
      "Epoch 7, Batch 50, Running Loss 8.605574802476532\n",
      "Epoch 7, Batch 100, Running Loss 5.1403051482306585\n",
      "Epoch Loss 7.410686492919922\n",
      "Epoch 8/10\n",
      "Epoch 8, Batch 50, Running Loss 9.57272399201685\n",
      "Epoch 8, Batch 100, Running Loss 4.971106832677668\n",
      "Epoch Loss 5.281079292297363\n",
      "Epoch 9/10\n",
      "Epoch 9, Batch 50, Running Loss 9.394261389362569\n",
      "Epoch 9, Batch 100, Running Loss 4.898783837906038\n",
      "Epoch Loss 7.7642083168029785\n",
      "Epoch 10/10\n",
      "Epoch 10, Batch 50, Running Loss 9.700206192172303\n",
      "Epoch 10, Batch 100, Running Loss 5.062161527498804\n",
      "Epoch Loss 4.465153217315674\n",
      "Training Done\n"
     ]
    }
   ],
   "source": [
    "keypoint, optimizer, criterion, loss_history = train_model(keypoint, optimizer, criterion, train_loader, EPOCHS)"
   ]
  },
  {
   "cell_type": "code",
   "execution_count": 171,
   "metadata": {},
   "outputs": [],
   "source": [
    "# testing the model\n",
    "keypoint.eval()\n",
    "outputs = []\n",
    "\n",
    "with torch.no_grad():\n",
    "    for dat in test_loader:\n",
    "        x, y = dat\n",
    "        out = keypoint(x.float())\n",
    "        outputs.append([x.view(-1, 96, 96), out.view(-1, 30)])"
   ]
  },
  {
   "cell_type": "code",
   "execution_count": 33,
   "metadata": {},
   "outputs": [],
   "source": [
    "def plot_predictions(data):\n",
    "    idx = np.random.randint(0, 64, 1)[-1] # since batch size is 64\n",
    "    x = data[0][idx].data.numpy()\n",
    "    coords = data[1][idx].data.numpy()\n",
    "    \n",
    "    plt.imshow(x, cmap='gray')\n",
    "    coords = coords.reshape(15, 2)\n",
    "    plt.scatter(coords[:, 0], coords[:, 1], color='r', s=10)\n",
    "    plt.show()"
   ]
  },
  {
   "cell_type": "code",
   "execution_count": 187,
   "metadata": {},
   "outputs": [
    {
     "data": {
      "image/png": "[encoded data removed]",
      "text/plain": [
       "<Figure size 432x288 with 1 Axes>"
      ]
     },
     "metadata": {
      "needs_background": "light"
     },
     "output_type": "display_data"
    }
   ],
   "source": [
    "plot_predictions(outputs[3])"
   ]
  },
  {
   "cell_type": "code",
   "execution_count": 21,
   "metadata": {},
   "outputs": [],
   "source": [
    "# more traditional model\n",
    "class Net(nn.Module):\n",
    "    def __init__(self, in_channels):\n",
    "        super(Net, self).__init__()\n",
    "        \n",
    "        # 96x96\n",
    "        self.conv1 = nn.Conv2d(in_channels, 32, 5)\n",
    "        # 92x92\n",
    "        # 46x46\n",
    "        self.conv2 = nn.Conv2d(32, 64, 3)\n",
    "        # 44x44\n",
    "        # 22x22\n",
    "        self.conv3 = nn.Conv2d(64, 128, 3)\n",
    "        # 20x20\n",
    "        # 10x10\n",
    "        self.fc1 = nn.Linear(10*10*128, 1000)\n",
    "        self.fc2 = nn.Linear(1000, 128)\n",
    "        self.fc3 = nn.Linear(128, 30)\n",
    "        \n",
    "        self.pool = nn.MaxPool2d(2)\n",
    "        \n",
    "    def forward(self, x):\n",
    "        x = self.pool(F.relu(self.conv1(x)))\n",
    "        x = self.pool(F.relu(self.conv2(x)))\n",
    "        x = self.pool(F.relu(self.conv3(x)))\n",
    "        \n",
    "        x = x.view(x.size(0), -1)\n",
    "        x = F.relu(self.fc1(x))\n",
    "        x = F.relu(self.fc2(x))\n",
    "        x = self.fc3(x)\n",
    "        \n",
    "        return x"
   ]
  },
  {
   "cell_type": "code",
   "execution_count": 22,
   "metadata": {},
   "outputs": [
    {
     "data": {
      "text/plain": [
       "Net(\n",
       "  (conv1): Conv2d(1, 32, kernel_size=(5, 5), stride=(1, 1))\n",
       "  (conv2): Conv2d(32, 64, kernel_size=(3, 3), stride=(1, 1))\n",
       "  (conv3): Conv2d(64, 128, kernel_size=(3, 3), stride=(1, 1))\n",
       "  (fc1): Linear(in_features=12800, out_features=1000, bias=True)\n",
       "  (fc2): Linear(in_features=1000, out_features=128, bias=True)\n",
       "  (fc3): Linear(in_features=128, out_features=30, bias=True)\n",
       "  (pool): MaxPool2d(kernel_size=2, stride=2, padding=0, dilation=1, ceil_mode=False)\n",
       ")"
      ]
     },
     "execution_count": 22,
     "metadata": {},
     "output_type": "execute_result"
    }
   ],
   "source": [
    "net = Net(1)\n",
    "net"
   ]
  },
  {
   "cell_type": "code",
   "execution_count": 29,
   "metadata": {},
   "outputs": [
    {
     "data": {
      "text/plain": [
       "tensor([[-0.0133, -0.0105,  0.0329,  ...,  0.0382, -0.0292, -0.0413],\n",
       "        [-0.0157, -0.0114,  0.0292,  ...,  0.0400, -0.0322, -0.0412],\n",
       "        [-0.0161, -0.0102,  0.0310,  ...,  0.0387, -0.0325, -0.0420],\n",
       "        ...,\n",
       "        [-0.0163, -0.0100,  0.0311,  ...,  0.0378, -0.0307, -0.0422],\n",
       "        [-0.0162, -0.0115,  0.0345,  ...,  0.0383, -0.0284, -0.0393],\n",
       "        [-0.0154, -0.0107,  0.0306,  ...,  0.0374, -0.0332, -0.0423]],\n",
       "       grad_fn=<AddmmBackward>)"
      ]
     },
     "execution_count": 29,
     "metadata": {},
     "output_type": "execute_result"
    }
   ],
   "source": [
    "test_input = next(iter(train_loader))\n",
    "net(test_input[0].float())"
   ]
  },
  {
   "cell_type": "code",
   "execution_count": 26,
   "metadata": {},
   "outputs": [],
   "source": [
    "optimizer1 = optim.Adam(net.parameters(), lr=0.001)\n",
    "criterion1 = nn.MSELoss()\n",
    "EPOCHS = 5"
   ]
  },
  {
   "cell_type": "code",
   "execution_count": 30,
   "metadata": {},
   "outputs": [
    {
     "data": {
      "text/plain": [
       "tensor(2614.1011, dtype=torch.float64, grad_fn=<MseLossBackward>)"
      ]
     },
     "execution_count": 30,
     "metadata": {},
     "output_type": "execute_result"
    }
   ],
   "source": [
    "criterion1(net(test_input[0].float()), test_input[1])"
   ]
  },
  {
   "cell_type": "code",
   "execution_count": 31,
   "metadata": {},
   "outputs": [
    {
     "name": "stdout",
     "output_type": "stream",
     "text": [
      "Epoch 1/5\n",
      "Epoch 1, Batch 50, Running Loss 445.8415682656424\n",
      "Epoch 1, Batch 100, Running Loss 6.545577641689416\n",
      "Epoch Loss 8.976776123046875\n",
      "Epoch 2/5\n",
      "Epoch 2, Batch 50, Running Loss 9.3804030418396\n",
      "Epoch 2, Batch 100, Running Loss 5.065115369931616\n",
      "Epoch Loss 8.21175479888916\n",
      "Epoch 3/5\n",
      "Epoch 3, Batch 50, Running Loss 8.86434437304127\n",
      "Epoch 3, Batch 100, Running Loss 5.2077426091589105\n",
      "Epoch Loss 11.806509971618652\n",
      "Epoch 4/5\n",
      "Epoch 4, Batch 50, Running Loss 9.11153762194575\n",
      "Epoch 4, Batch 100, Running Loss 4.976770887471209\n",
      "Epoch Loss 8.160588264465332\n",
      "Epoch 5/5\n",
      "Epoch 5, Batch 50, Running Loss 9.797332637164057\n",
      "Epoch 5, Batch 100, Running Loss 5.226514975229899\n",
      "Epoch Loss 6.940021514892578\n",
      "Training Done\n"
     ]
    }
   ],
   "source": [
    "net, optimizer1, criterion1, loss_history = train_model(net, optimizer1, criterion1, train_loader, EPOCHS)"
   ]
  },
  {
   "cell_type": "code",
   "execution_count": 32,
   "metadata": {},
   "outputs": [
    {
     "data": {
      "image/png": "[encoded data removed]",
      "text/plain": [
       "<Figure size 432x288 with 1 Axes>"
      ]
     },
     "metadata": {
      "needs_background": "light"
     },
     "output_type": "display_data"
    }
   ],
   "source": [
    "plt.plot(loss_history, 'ro-')\n",
    "plt.xlabel('Loss Per 50 Batches')\n",
    "plt.ylabel('MSE Loss')\n",
    "plt.show()"
   ]
  },
  {
   "cell_type": "code",
   "execution_count": 36,
   "metadata": {},
   "outputs": [],
   "source": [
    "outputs = []\n",
    "net.eval()\n",
    "with torch.no_grad():\n",
    "    for dat in test_loader:\n",
    "        x, y = dat\n",
    "        out = net(x.float())\n",
    "        outputs.append([x.view(-1, 96, 96), out.view(-1, 30)])"
   ]
  },
  {
   "cell_type": "code",
   "execution_count": 64,
   "metadata": {},
   "outputs": [
    {
     "data": {
      "image/png": "[encoded data removed]",
      "text/plain": [
       "<Figure size 432x288 with 1 Axes>"
      ]
     },
     "metadata": {
      "needs_background": "light"
     },
     "output_type": "display_data"
    }
   ],
   "source": [
    "idx = np.random.randint(0, len(outputs), 1)[-1]\n",
    "plot_predictions(outputs[idx])"
   ]
  },
  {
   "cell_type": "code",
   "execution_count": null,
   "metadata": {},
   "outputs": [],
   "source": [
    "# both models perform equally good, but the computational expense for the Convolutional implementation is lesser\n",
    "# compared to the standard model"
   ]
  }
 ],
 "metadata": {
  "kernelspec": {
   "display_name": "Python 3",
   "language": "python",
   "name": "python3"
  },
  "language_info": {
   "codemirror_mode": {
    "name": "ipython",
    "version": 3
   },
   "file_extension": ".py",
   "mimetype": "text/x-python",
   "name": "python",
   "nbconvert_exporter": "python",
   "pygments_lexer": "ipython3",
   "version": "3.7.6"
  }
 },
 "nbformat": 4,
 "nbformat_minor": 4
}
